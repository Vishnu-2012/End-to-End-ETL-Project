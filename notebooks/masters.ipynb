{
 "cells": [
  {
   "cell_type": "code",
   "execution_count": null,
   "id": "a048f283-ba8d-454a-83c4-ab03c4878109",
   "metadata": {},
   "outputs": [],
   "source": [
    "from extract_datas import extract_datas\n",
    "from transform_datas import transform_datas\n",
    "from create_table import create_table\n",
    "from load_data_to_dbs import load_data_to_dbs\n",
    "import psycopg2\n",
    "\n",
    "web_traffic_path = yourpath\n",
    "customer_reviews_path = yourpath\n",
    "db_host = your_credentials\n",
    "db_port = your_credentials\n",
    "db_name = your_credentials\n",
    "db_user = your_credentials\n",
    "db_password = your_credentials\n",
    "web_traffic_path = yourpath\n",
    "customer_reviews_path = yourpath\n",
    "\n",
    "\n",
    "data_dict = extract_data(web_traffic_path, customer_reviews_path)\n",
    "transformed_data_dict = transform_data(data_dict)\n",
    "\n",
    "try:\n",
    "    connection = psycopg2.connect(\n",
    "        host=db_host,\n",
    "        port=db_port,\n",
    "        database=db_name,\n",
    "        user=db_user,\n",
    "        password=db_password\n",
    "    )\n",
    "    print(\"Connection to PostgreSQL DB successful\")\n",
    "    create_tables(connection)\n",
    "    load_data_to_db(connection, transformed_data_dict)\n",
    "\n",
    "except Exception as e:\n",
    "    print(f\"Error: {e}\")\n",
    "\n",
    "finally:\n",
    "    if connection is not None:\n",
    "        connection.close()\n",
    "        print(\"PostgreSQL connection is closed\")\n"
   ]
  }
 ],
 "metadata": {
  "kernelspec": {
   "display_name": "Python 3 (ipykernel)",
   "language": "python",
   "name": "python3"
  },
  "language_info": {
   "codemirror_mode": {
    "name": "ipython",
    "version": 3
   },
   "file_extension": ".py",
   "mimetype": "text/x-python",
   "name": "python",
   "nbconvert_exporter": "python",
   "pygments_lexer": "ipython3",
   "version": "3.11.7"
  }
 },
 "nbformat": 4,
 "nbformat_minor": 5
}
