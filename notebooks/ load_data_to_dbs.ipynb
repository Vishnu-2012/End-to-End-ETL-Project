{
 "cells": [
  {
   "cell_type": "code",
   "execution_count": null,
   "id": "2e6bd0fb-02e8-44fa-8400-92d2aacb48a0",
   "metadata": {},
   "outputs": [],
   "source": [
    "def load_data_to_db(connection, transformed_data_dict):\n",
    "    \"\"\"\n",
    "    Load transformed data into the PostgreSQL database.\n",
    "\n",
    "    Parameters:\n",
    "    - connection: psycopg2 connection object.\n",
    "    - transformed_data_dict: dict, keys as dataset names and values as transformed DataFrames.\n",
    "    \"\"\"\n",
    "    if connection is not None:\n",
    "        cursor = connection.cursor()\n",
    "\n",
    "        # Load data into web_traffic table\n",
    "        web_traffic_df = transformed_data_dict['web_traffic']\n",
    "        for index, row in web_traffic_df.iterrows():\n",
    "            cursor.execute('''\n",
    "                INSERT INTO web_traffic (timestamp, traffic_count, year, month, day, hour, minute, \n",
    "                day_of_week, day_of_year, week_of_year, hour_sin, hour_cos, month_sin, month_cos) \n",
    "                VALUES (%s, %s, %s, %s, %s, %s, %s, %s, %s, %s, %s, %s, %s, %s);\n",
    "            ''', tuple(row))\n",
    "\n",
    "        # Load data into customer_reviews table\n",
    "        customer_reviews_df = transformed_data_dict['customer_reviews']\n",
    "        for index, row in customer_reviews_df.iterrows():\n",
    "            cursor.execute('''\n",
    "                INSERT INTO customer_reviews (original_review, cleaned_text, tokenized_text, lemmatized_text, sentiment_polarity, subjectivity_score) \n",
    "                VALUES (%s, %s, %s, %s, %s, %s);\n",
    "            ''', (\n",
    "                row['Review'],\n",
    "                row['cleaned_text'],\n",
    "                row['tokenized_text'],  # Convert list to string if necessary\n",
    "                row['lemmatized_text'],\n",
    "                row['sentiment_polarity'],\n",
    "                row['subjectivity_score']\n",
    "            ))\n",
    "\n",
    "        connection.commit()\n",
    "        cursor.close()\n",
    "        print(\"Data loaded successfully\")\n"
   ]
  }
 ],
 "metadata": {
  "kernelspec": {
   "display_name": "Python 3 (ipykernel)",
   "language": "python",
   "name": "python3"
  },
  "language_info": {
   "codemirror_mode": {
    "name": "ipython",
    "version": 3
   },
   "file_extension": ".py",
   "mimetype": "text/x-python",
   "name": "python",
   "nbconvert_exporter": "python",
   "pygments_lexer": "ipython3",
   "version": "3.11.7"
  }
 },
 "nbformat": 4,
 "nbformat_minor": 5
}
