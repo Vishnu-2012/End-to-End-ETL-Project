{
 "cells": [
  {
   "cell_type": "code",
   "execution_count": null,
   "id": "7dfb40f1-7caa-4d4e-99de-f19c63d707d7",
   "metadata": {},
   "outputs": [],
   "source": [
    "import psycopg2\n",
    "\n",
    "def create_table(connection):\n",
    "    \"\"\"\n",
    "    Create tables in the PostgreSQL database.\n",
    "\n",
    "    Parameters:\n",
    "    - connection: psycopg2 connection object.\n",
    "    \"\"\"\n",
    "    if connection is not None:\n",
    "        cursor = connection.cursor()\n",
    "\n",
    "        # Create web_traffic table\n",
    "        cursor.execute('''\n",
    "            CREATE TABLE IF NOT EXISTS web_traffic (\n",
    "                timestamp TIMESTAMPTZ,\n",
    "                traffic_count FLOAT,\n",
    "                year INT,\n",
    "                month INT,\n",
    "                day INT,\n",
    "                hour INT,\n",
    "                minute INT,\n",
    "                day_of_week INT,\n",
    "                day_of_year INT,\n",
    "                week_of_year INT,\n",
    "                hour_sin FLOAT,\n",
    "                hour_cos FLOAT,\n",
    "                month_sin FLOAT,\n",
    "                month_cos FLOAT\n",
    "            );\n",
    "        ''')\n",
    "\n",
    "        # Create customer_reviews table\n",
    "        cursor.execute('''\n",
    "            CREATE TABLE IF NOT EXISTS customer_reviews(\n",
    "                original_review TEXT,\n",
    "                rating INT,  \n",
    "                cleaned_text TEXT,\n",
    "                tokenized_text TEXT[],\n",
    "                lemmatized_text TEXT,\n",
    "                sentiment_polarity REAL,\n",
    "                subjectivity_score REAL\n",
    "            );\n",
    "        ''')\n",
    "\n",
    "        connection.commit()\n",
    "        cursor.close()\n"
   ]
  }
 ],
 "metadata": {
  "kernelspec": {
   "display_name": "Python 3 (ipykernel)",
   "language": "python",
   "name": "python3"
  },
  "language_info": {
   "codemirror_mode": {
    "name": "ipython",
    "version": 3
   },
   "file_extension": ".py",
   "mimetype": "text/x-python",
   "name": "python",
   "nbconvert_exporter": "python",
   "pygments_lexer": "ipython3",
   "version": "3.11.7"
  }
 },
 "nbformat": 4,
 "nbformat_minor": 5
}
