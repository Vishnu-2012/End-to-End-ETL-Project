{
 "cells": [
  {
   "cell_type": "code",
   "execution_count": null,
   "id": "ea074f13-8303-4aa3-a97c-a40fe2e012e3",
   "metadata": {},
   "outputs": [],
   "source": [
    "import pandas as pd\n",
    "\n",
    "def extract_datas(web_traffic_path, customer_reviews_path):\n",
    "    \"\"\"\n",
    "    Extract data from CSV files into pandas DataFrames.\n",
    "\n",
    "    Parameters:\n",
    "    - web_traffic_path: str, path to the web traffic CSV file.\n",
    "    - customer_reviews_path: str, path to the customer reviews CSV file.\n",
    "\n",
    "    Returns:\n",
    "    - data_dict: dict, keys as dataset names and values as DataFrames.\n",
    "    \"\"\"\n",
    "    web_traffic_df = pd.read_csv(yourpath)\n",
    "    customer_reviews_df = pd.read_csv(yourpath)\n",
    "    \n",
    "    # Print the first few rows of each DataFrame\n",
    "    print(web_traffic_df.head())\n",
    "    print(customer_reviews_df.head())\n",
    "\n",
    "    data_dict = {\n",
    "        \"web_traffic\": web_traffic_df,\n",
    "        \"customer_reviews\": customer_reviews_df\n",
    "    }\n",
    "    \n",
    "    return data_dict\n"
   ]
  }
 ],
 "metadata": {
  "kernelspec": {
   "display_name": "Python 3 (ipykernel)",
   "language": "python",
   "name": "python3"
  },
  "language_info": {
   "codemirror_mode": {
    "name": "ipython",
    "version": 3
   },
   "file_extension": ".py",
   "mimetype": "text/x-python",
   "name": "python",
   "nbconvert_exporter": "python",
   "pygments_lexer": "ipython3",
   "version": "3.11.7"
  }
 },
 "nbformat": 4,
 "nbformat_minor": 5
}
